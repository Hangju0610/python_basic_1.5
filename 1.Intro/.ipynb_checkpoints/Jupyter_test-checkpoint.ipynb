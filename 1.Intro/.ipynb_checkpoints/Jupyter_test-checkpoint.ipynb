{
 "cells": [
  {
   "cell_type": "code",
   "execution_count": 38,
   "id": "91c7c4ee-b071-47fd-959b-a974536621de",
   "metadata": {},
   "outputs": [
    {
     "data": {
      "text/plain": [
       "30"
      ]
     },
     "execution_count": 38,
     "metadata": {},
     "output_type": "execute_result"
    }
   ],
   "source": [
    "10 + 20"
   ]
  },
  {
   "cell_type": "code",
   "execution_count": 68,
   "id": "22dead5b-9d5b-4af8-8fdb-97a3c846d814",
   "metadata": {},
   "outputs": [
    {
     "data": {
      "text/plain": [
       "2000"
      ]
     },
     "execution_count": 68,
     "metadata": {},
     "output_type": "execute_result"
    }
   ],
   "source": [
    "20 * 100"
   ]
  },
  {
   "cell_type": "code",
   "execution_count": 70,
   "id": "c100c931-7745-48eb-a6da-b8b44bdc47c7",
   "metadata": {},
   "outputs": [
    {
     "data": {
      "text/plain": [
       "1000"
      ]
     },
     "execution_count": 70,
     "metadata": {},
     "output_type": "execute_result"
    }
   ],
   "source": [
    "1000 * 1"
   ]
  },
  {
   "cell_type": "code",
   "execution_count": 74,
   "id": "d3d95462-f7df-4c9c-99b8-ec32507e020a",
   "metadata": {},
   "outputs": [
    {
     "name": "stdout",
     "output_type": "stream",
     "text": [
      "Hello world\n"
     ]
    }
   ],
   "source": [
    "print('Hello world')"
   ]
  },
  {
   "cell_type": "code",
   "execution_count": 80,
   "id": "cd7f97ea-0526-4785-a909-e1588cfa840c",
   "metadata": {},
   "outputs": [
    {
     "name": "stdout",
     "output_type": "stream",
     "text": [
      "3000\n"
     ]
    }
   ],
   "source": [
    "a = 15\n",
    "b = 20\n",
    "print(a * b * 10)"
   ]
  },
  {
   "cell_type": "markdown",
   "id": "d3d647a7-cf61-4843-a645-9be5c7513a1e",
   "metadata": {},
   "source": [
    "안녕하세요.\n",
    "저는 파이썬 입니다."
   ]
  },
  {
   "cell_type": "markdown",
   "id": "700cc0c0-ab7b-423c-b31b-fbd496f8efb0",
   "metadata": {},
   "source": [
    "<u><b>파이썬</b></u>"
   ]
  },
  {
   "cell_type": "markdown",
   "id": "c90b338f-6a40-4bc3-a47e-14d6753e7016",
   "metadata": {},
   "source": [
    "# 공부1"
   ]
  },
  {
   "cell_type": "markdown",
   "id": "ece4b32b-1fba-470f-acde-e12c3ae822b5",
   "metadata": {},
   "source": [
    "### 공부1"
   ]
  },
  {
   "cell_type": "markdown",
   "id": "24759112-d314-43cd-b247-be41b72c5a82",
   "metadata": {},
   "source": [
    "*안녕하세요.*"
   ]
  },
  {
   "cell_type": "markdown",
   "id": "5500be9a-1d83-4355-a675-14eeedaf620b",
   "metadata": {},
   "source": [
    "<i>안녕하세요.</i>"
   ]
  },
  {
   "cell_type": "markdown",
   "id": "f29325d0-f282-4979-90fa-875133160202",
   "metadata": {},
   "source": [
    "**강조된 텍스트**"
   ]
  },
  {
   "cell_type": "markdown",
   "id": "9068ef70-b4ff-4505-b637-d567e9282535",
   "metadata": {},
   "source": [
    "~~취소된 텍스트~~"
   ]
  },
  {
   "cell_type": "markdown",
   "id": "3ad81e23-7683-4aab-b683-21d26a8e7c69",
   "metadata": {},
   "source": [
    "<del>취소된 텍스트</del>"
   ]
  }
 ],
 "metadata": {
  "kernelspec": {
   "display_name": "Python 3 (ipykernel)",
   "language": "python",
   "name": "python3"
  },
  "language_info": {
   "codemirror_mode": {
    "name": "ipython",
    "version": 3
   },
   "file_extension": ".py",
   "mimetype": "text/x-python",
   "name": "python",
   "nbconvert_exporter": "python",
   "pygments_lexer": "ipython3",
   "version": "3.11.7"
  }
 },
 "nbformat": 4,
 "nbformat_minor": 5
}
